{
  "nbformat": 4,
  "nbformat_minor": 0,
  "metadata": {
    "colab": {
      "provenance": [],
      "mount_file_id": "1LBPHmVV5TBbddwEXtJ4ITQeJK6jmkVRG",
      "authorship_tag": "ABX9TyNgDlDfXSdhgiSHOmQOqDkP",
      "include_colab_link": true
    },
    "kernelspec": {
      "name": "python3",
      "display_name": "Python 3"
    },
    "language_info": {
      "name": "python"
    }
  },
  "cells": [
    {
      "cell_type": "markdown",
      "metadata": {
        "id": "view-in-github",
        "colab_type": "text"
      },
      "source": [
        "<a href=\"https://colab.research.google.com/github/karthimd/Mayweather_MD.github.io/blob/main/Res_Net.ipynb\" target=\"_parent\"><img src=\"https://colab.research.google.com/assets/colab-badge.svg\" alt=\"Open In Colab\"/></a>"
      ]
    },
    {
      "cell_type": "code",
      "execution_count": 4,
      "metadata": {
        "id": "5v_NSQPms9nL"
      },
      "outputs": [],
      "source": [
        "import os\n",
        "import random\n",
        "import tensorflow as tf\n",
        "from tensorflow import keras\n",
        "import numpy as np\n",
        "import tensorflow as tf\n",
        "from tensorflow import keras\n",
        "import pandas as pd\n",
        "import pickle5 as pickle\n",
        "import matplotlib.pyplot as plt\n",
        "from keras.models import Sequential\n",
        "from tensorflow.keras.utils import to_categorical\n",
        "from tensorflow.keras.optimizers import Adam\n",
        "from sklearn.metrics import classification_report\n",
        "from keras.layers import Dense, Dropout, MaxPooling2D, Flatten, Conv2D, GlobalAveragePooling2D\n",
        "from tensorflow.keras.applications.mobilenet import MobileNet, preprocess_input\n",
        "from keras.preprocessing.image import ImageDataGenerator\n",
        "from tensorflow.keras.optimizers import Adam\n",
        "from sklearn.metrics import classification_report\n",
        "from keras.layers import Dense, Dropout, MaxPooling2D, Flatten, Conv2D\n",
        "from tensorflow.keras.applications.resnet50 import ResNet50\n"
      ]
    },
    {
      "cell_type": "code",
      "source": [
        "!pip install pickle5\n"
      ],
      "metadata": {
        "colab": {
          "base_uri": "https://localhost:8080/"
        },
        "id": "znQhK-H4uC6H",
        "outputId": "343512ed-c128-422d-c22a-577b3a33ad57"
      },
      "execution_count": 2,
      "outputs": [
        {
          "output_type": "stream",
          "name": "stdout",
          "text": [
            "Looking in indexes: https://pypi.org/simple, https://us-python.pkg.dev/colab-wheels/public/simple/\n",
            "Requirement already satisfied: pickle5 in /usr/local/lib/python3.8/dist-packages (0.0.11)\n"
          ]
        }
      ]
    },
    {
      "cell_type": "code",
      "source": [
        "def reset_random_seeds(seed):\n",
        "    os.environ['PYTHONHASHSEED']=str(seed)\n",
        "    tf.random.set_seed(seed)\n",
        "    np.random.seed(seed)\n",
        "    random.seed(seed)"
      ],
      "metadata": {
        "id": "_LHqBNHfuN8v"
      },
      "execution_count": 5,
      "outputs": []
    },
    {
      "cell_type": "code",
      "source": [
        "\n",
        "\n",
        "def main():\n",
        "    \n",
        "    with open(\"/content/drive/MyDrive/samy/img_train.pkl\", \"rb\") as fh:\n",
        "        data = pickle.load(fh)\n",
        "        X_train_ = pd.DataFrame(data)[\"img_array\"] \n",
        "    \n",
        "    with open(\"/content/drive/MyDrive/samy/img_test.pkl\", \"rb\") as fh:\n",
        "        data = pickle.load(fh)\n",
        "        X_test_ = pd.DataFrame(data)[\"img_array\"]\n",
        "    \n",
        "    with open(\"/content/drive/MyDrive/samy/img_y_train.pkl\", \"rb\") as fh:\n",
        "        data = pickle.load(fh)\n",
        "        y_train = np.array(pd.DataFrame(data)[\"label\"].values.astype(np.float32)).flatten()\n",
        "    \n",
        "    with open(\"/content/drive/MyDrive/samy/img_y_test.pkl\", \"rb\") as fh:\n",
        "        data = pickle.load(fh)\n",
        "        y_test = np.array(pd.DataFrame(data)[\"label\"].values.astype(np.float32)).flatten()\n",
        "\n",
        "    \n",
        "\n",
        "    y_test[y_test == 2] = -1\n",
        "    y_test[y_test == 1] = 2\n",
        "    y_test[y_test == -1] = 1\n",
        "    \n",
        "    y_train[y_train == 2] = -1\n",
        "    y_train[y_train == 1] = 2\n",
        "    y_train[y_train == -1] = 1\n",
        "    \n",
        "\n",
        "    X_train = []\n",
        "    X_test = []\n",
        "    \n",
        "    for i in range(len(X_train_)):\n",
        "        X_train.append(X_train_.values[i])\n",
        "        \n",
        "    for i in range(len(X_test_)):\n",
        "        X_test.append(X_test_.values[i])\n",
        "    \n",
        "    \n",
        "    X_train = np.array(X_train)\n",
        "    X_test = np.array(X_test)\n",
        "    acc = []\n",
        "    f1 = []\n",
        "    precision = []\n",
        "    recall = []\n",
        "    \n",
        "    # Resize images to (224, 224)\n",
        "    X_train = tf.image.resize(X_train, (224, 224))\n",
        "    X_test = tf.image.resize(X_test, (224, 224))\n",
        "    \n",
        "    # Preprocess images for ResNet50\n",
        "    X_train = keras.applications.resnet50.preprocess_input(X_train)\n",
        "    X_test = keras.applications.resnet50.preprocess_input(X_test)\n",
        "\n",
        "    # Load ResNet50 model\n",
        "    base_model = ResNet50(weights='imagenet', include_top=False, input_shape=(224, 224, 3))\n",
        "    \n",
        "    # Add custom classification head\n",
        "    x = base_model.output\n",
        "    x = keras.layers.GlobalAveragePooling2D()(x)\n",
        "    x = keras.layers.Dense(128, activation='relu')(x)\n",
        "    predictions = keras.layers.Dense(3, activation='softmax')(x)\n",
        "    model = keras.models.Model(inputs=base_model.input, outputs=predictions)\n",
        "    \n",
        "    # Freeze the pre-trained layers\n",
        "    for layer in base_model.layers:\n",
        "        layer.trainable = False\n",
        "    \n",
        "    # Compile the model\n",
        "    model.compile(optimizer='adam', loss='sparse_categorical_crossentropy', metrics=['accuracy'])\n",
        "\n",
        "    # Train the model\n",
        "    model.fit(X_train, y_train, batch_size=32, epochs=50, validation_split=0.15)\n",
        "    score = model.evaluate(X_test, y_test, verbose=0)\n",
        "    print(f'Test loss: {score[0]} / Test accuracy: {score[1]}')\n",
        "    acc.append(score[1])\n",
        "\n",
        "    test_predictions = model.predict(X_test)\n",
        "    test_label = to_categorical(y_test, 3)\n",
        "\n",
        "    true_label = np.argmax(test_label, axis=1)\n",
        "\n",
        "    predicted_label = np.argmax(test_predictions, axis=1)\n",
        "\n",
        "    cr = classification_report(true_label, predicted_label, output_dict=True)\n",
        "    precision.append(cr[\"macro avg\"][\"precision\"])\n",
        "    recall.append(cr[\"macro avg\"][\"recall\"])\n",
        "    f1.append(cr[\"macro avg\"][\"f1-score\"])\n",
        "    \n",
        "    print(\"Avg accuracy: \" + str(np.array(acc).mean()))\n",
        "    print(\"Avg precision: \" + str(np.array(precision).mean()))\n",
        "    print(\"Avg recall: \" + str(np.array(recall).mean()))\n",
        "    print(\"Avg f1: \" + str(np.array(f1).mean()))\n",
        "    print(\"Std accuracy: \" + str(np.array(acc).std()))\n",
        "    print(\"Std precision: \" + str(np.array(precision).std()))\n",
        "    print(\"Std recall: \" + str(np.array(recall).std()))\n",
        "    print(\"Std f1: \" + str(np.array(f1).std()))\n",
        "    print(acc)\n",
        "    print(precision)\n",
        "    print(recall)\n",
        "    print(f1)\n",
        "    \n",
        "\n",
        "    \n",
        "if __name__ == '__main__':\n",
        "    main()"
      ],
      "metadata": {
        "colab": {
          "base_uri": "https://localhost:8080/"
        },
        "id": "qBEpEL8QzQKx",
        "outputId": "a02d753d-f5ea-4f17-f5e8-01c80dc8c68e"
      },
      "execution_count": null,
      "outputs": [
        {
          "output_type": "stream",
          "name": "stdout",
          "text": [
            "Downloading data from https://storage.googleapis.com/tensorflow/keras-applications/resnet/resnet50_weights_tf_dim_ordering_tf_kernels_notop.h5\n",
            "94765736/94765736 [==============================] - 1s 0us/step\n",
            "Epoch 1/50\n",
            "77/77 [==============================] - 652s 8s/step - loss: 1.3840 - accuracy: 0.4723 - val_loss: 1.6181 - val_accuracy: 0.2552\n",
            "Epoch 2/50\n",
            "77/77 [==============================] - 580s 8s/step - loss: 1.1309 - accuracy: 0.4994 - val_loss: 1.0885 - val_accuracy: 0.5197\n",
            "Epoch 3/50\n",
            "77/77 [==============================] - 642s 8s/step - loss: 0.9641 - accuracy: 0.5462 - val_loss: 1.2728 - val_accuracy: 0.5383\n",
            "Epoch 4/50\n",
            "77/77 [==============================] - 644s 8s/step - loss: 1.0257 - accuracy: 0.5211 - val_loss: 1.1455 - val_accuracy: 0.4176\n",
            "Epoch 5/50\n",
            "77/77 [==============================] - 629s 8s/step - loss: 0.9560 - accuracy: 0.5572 - val_loss: 1.3367 - val_accuracy: 0.3063\n",
            "Epoch 6/50\n",
            "77/77 [==============================] - 635s 8s/step - loss: 0.9778 - accuracy: 0.5412 - val_loss: 1.2161 - val_accuracy: 0.4107\n",
            "Epoch 7/50\n",
            "77/77 [==============================] - 635s 8s/step - loss: 0.9114 - accuracy: 0.5827 - val_loss: 1.5933 - val_accuracy: 0.2970\n",
            "Epoch 8/50\n",
            "77/77 [==============================] - 562s 7s/step - loss: 0.9071 - accuracy: 0.5962 - val_loss: 1.1760 - val_accuracy: 0.4084\n",
            "Epoch 9/50\n",
            "77/77 [==============================] - 617s 8s/step - loss: 0.9444 - accuracy: 0.5835 - val_loss: 1.2283 - val_accuracy: 0.5360\n",
            "Epoch 10/50\n",
            "77/77 [==============================] - 619s 8s/step - loss: 0.9303 - accuracy: 0.5761 - val_loss: 1.1314 - val_accuracy: 0.4826\n",
            "Epoch 11/50\n",
            "77/77 [==============================] - 627s 8s/step - loss: 0.8445 - accuracy: 0.6163 - val_loss: 1.1296 - val_accuracy: 0.4200\n",
            "Epoch 12/50\n",
            "77/77 [==============================] - 626s 8s/step - loss: 0.8657 - accuracy: 0.6048 - val_loss: 1.2106 - val_accuracy: 0.3341\n",
            "Epoch 13/50\n",
            "77/77 [==============================] - 644s 8s/step - loss: 0.8484 - accuracy: 0.6139 - val_loss: 1.1770 - val_accuracy: 0.4408\n",
            "Epoch 14/50\n",
            "77/77 [==============================] - 643s 8s/step - loss: 0.8410 - accuracy: 0.6106 - val_loss: 1.1364 - val_accuracy: 0.4501\n",
            "Epoch 15/50\n",
            "77/77 [==============================] - 619s 8s/step - loss: 0.8250 - accuracy: 0.6274 - val_loss: 1.1320 - val_accuracy: 0.4710\n",
            "Epoch 16/50\n",
            "77/77 [==============================] - 579s 8s/step - loss: 0.8111 - accuracy: 0.6340 - val_loss: 1.1554 - val_accuracy: 0.4617\n",
            "Epoch 17/50\n",
            "77/77 [==============================] - 647s 8s/step - loss: 0.8054 - accuracy: 0.6467 - val_loss: 1.1187 - val_accuracy: 0.4896\n",
            "Epoch 18/50\n",
            "77/77 [==============================] - 587s 8s/step - loss: 0.7775 - accuracy: 0.6574 - val_loss: 1.3693 - val_accuracy: 0.3109\n",
            "Epoch 19/50\n",
            "77/77 [==============================] - 630s 8s/step - loss: 0.8017 - accuracy: 0.6336 - val_loss: 1.2502 - val_accuracy: 0.4965\n",
            "Epoch 20/50\n",
            "77/77 [==============================] - 634s 8s/step - loss: 0.7854 - accuracy: 0.6598 - val_loss: 1.2069 - val_accuracy: 0.3735\n",
            "Epoch 21/50\n",
            "63/77 [=======================>......] - ETA: 1:28 - loss: 0.7720 - accuracy: 0.6622"
          ]
        }
      ]
    },
    {
      "cell_type": "code",
      "source": [
        "model.save('my_mobilenet_model.h5')"
      ],
      "metadata": {
        "id": "KECUx73shUsY"
      },
      "execution_count": null,
      "outputs": []
    },
    {
      "cell_type": "code",
      "source": [],
      "metadata": {
        "id": "c8UrkNHKhUhI"
      },
      "execution_count": null,
      "outputs": []
    },
    {
      "cell_type": "code",
      "source": [
        "!pip install keras_applications"
      ],
      "metadata": {
        "id": "cG_uTXYGt0Lh",
        "colab": {
          "base_uri": "https://localhost:8080/"
        },
        "outputId": "5001e786-afbb-4630-9ccb-60adff093556"
      },
      "execution_count": 3,
      "outputs": [
        {
          "output_type": "stream",
          "name": "stdout",
          "text": [
            "Looking in indexes: https://pypi.org/simple, https://us-python.pkg.dev/colab-wheels/public/simple/\n",
            "Requirement already satisfied: keras_applications in /usr/local/lib/python3.8/dist-packages (1.0.8)\n",
            "Requirement already satisfied: numpy>=1.9.1 in /usr/local/lib/python3.8/dist-packages (from keras_applications) (1.21.6)\n",
            "Requirement already satisfied: h5py in /usr/local/lib/python3.8/dist-packages (from keras_applications) (3.1.0)\n"
          ]
        }
      ]
    },
    {
      "cell_type": "code",
      "source": [],
      "metadata": {
        "id": "ZCyslVIHt0Gf"
      },
      "execution_count": null,
      "outputs": []
    },
    {
      "cell_type": "code",
      "source": [],
      "metadata": {
        "id": "W2JgFSwPt0FQ"
      },
      "execution_count": null,
      "outputs": []
    },
    {
      "cell_type": "code",
      "source": [],
      "metadata": {
        "id": "_UEm6Z8gt0ES"
      },
      "execution_count": null,
      "outputs": []
    },
    {
      "cell_type": "code",
      "source": [
        "from google.colab import drive\n",
        "drive.mount('/content/drive')"
      ],
      "metadata": {
        "id": "8tdJldBzSkJF"
      },
      "execution_count": null,
      "outputs": []
    },
    {
      "cell_type": "code",
      "source": [
        "!pip install pandas==1.4.4"
      ],
      "metadata": {
        "colab": {
          "base_uri": "https://localhost:8080/"
        },
        "id": "BClXIoSOWvK-",
        "outputId": "85beeea2-9fa0-41dd-f40d-82f6461f104d"
      },
      "execution_count": 1,
      "outputs": [
        {
          "output_type": "stream",
          "name": "stdout",
          "text": [
            "Looking in indexes: https://pypi.org/simple, https://us-python.pkg.dev/colab-wheels/public/simple/\n",
            "Requirement already satisfied: pandas==1.4.4 in /usr/local/lib/python3.8/dist-packages (1.4.4)\n",
            "Requirement already satisfied: numpy>=1.18.5 in /usr/local/lib/python3.8/dist-packages (from pandas==1.4.4) (1.21.6)\n",
            "Requirement already satisfied: python-dateutil>=2.8.1 in /usr/local/lib/python3.8/dist-packages (from pandas==1.4.4) (2.8.2)\n",
            "Requirement already satisfied: pytz>=2020.1 in /usr/local/lib/python3.8/dist-packages (from pandas==1.4.4) (2022.7.1)\n",
            "Requirement already satisfied: six>=1.5 in /usr/local/lib/python3.8/dist-packages (from python-dateutil>=2.8.1->pandas==1.4.4) (1.15.0)\n"
          ]
        }
      ]
    }
  ]
}